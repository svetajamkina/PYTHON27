{
  "nbformat": 4,
  "nbformat_minor": 0,
  "metadata": {
    "colab": {
      "provenance": [],
      "authorship_tag": "ABX9TyOZwpGNHEF0BUoinRWFzshd",
      "include_colab_link": true
    },
    "kernelspec": {
      "name": "python3",
      "display_name": "Python 3"
    },
    "language_info": {
      "name": "python"
    }
  },
  "cells": [
    {
      "cell_type": "markdown",
      "metadata": {
        "id": "view-in-github",
        "colab_type": "text"
      },
      "source": [
        "<a href=\"https://colab.research.google.com/github/svetajamkina/PYTHON27/blob/main/ForLOOPS27_04.ipynb\" target=\"_parent\"><img src=\"https://colab.research.google.com/assets/colab-badge.svg\" alt=\"Open In Colab\"/></a>"
      ]
    },
    {
      "cell_type": "code",
      "execution_count": null,
      "metadata": {
        "id": "kl_UsmLkWarn"
      },
      "outputs": [],
      "source": []
    },
    {
      "cell_type": "code",
      "source": [
        "for letter in \"I LOVE PYTHON\": #STRING ITEABLE OBJECT\n",
        " print(letter, end = '') #\\n NEW LINE CHARACTER"
      ],
      "metadata": {
        "colab": {
          "base_uri": "https://localhost:8080/"
        },
        "id": "4V9pLfKtXynI",
        "outputId": "90c71714-9a15-41e2-f647-c9e88a884c5e"
      },
      "execution_count": 4,
      "outputs": [
        {
          "output_type": "stream",
          "name": "stdout",
          "text": [
            "I LOVE PYTHON"
          ]
        }
      ]
    },
    {
      "cell_type": "markdown",
      "source": [
        "FOR LOOP LIST"
      ],
      "metadata": {
        "id": "br41icAzZQ0T"
      }
    },
    {
      "cell_type": "code",
      "source": [
        "cities_i_have_been_to = ['Tallinn', 'Riga', 'Tartu', 'Viru','Aluksne', 'ventspils']"
      ],
      "metadata": {
        "id": "Ep_ZybaSZTMo"
      },
      "execution_count": 8,
      "outputs": []
    },
    {
      "cell_type": "code",
      "source": [
        "for city in cities_i_have_been_to:\n",
        "  print(f'I have been to {city}')"
      ],
      "metadata": {
        "colab": {
          "base_uri": "https://localhost:8080/"
        },
        "id": "Hz3G8T8pZy90",
        "outputId": "2a98e85a-8779-46ef-926e-db41544794a7"
      },
      "execution_count": 9,
      "outputs": [
        {
          "output_type": "stream",
          "name": "stdout",
          "text": [
            "I have been to Tallinn\n",
            "I have been to Riga\n",
            "I have been to Tartu\n",
            "I have been to Viru\n",
            "I have been to Aluksne\n",
            "I have been to ventspils\n"
          ]
        }
      ]
    },
    {
      "cell_type": "code",
      "source": [
        "counter = 1 #INITIALIZE THE COUNTER\n",
        "\n",
        "for city in cities_i_have_been_to:\n",
        "  print(f'{counter}. I have been to {city}')\n",
        "  counter = counter + 1"
      ],
      "metadata": {
        "colab": {
          "base_uri": "https://localhost:8080/"
        },
        "outputId": "82540ef4-d632-4b89-cdbc-dcb27834b223",
        "id": "ql0OAa2AaZK4"
      },
      "execution_count": 12,
      "outputs": [
        {
          "output_type": "stream",
          "name": "stdout",
          "text": [
            "1. I have been to Tallinn\n",
            "2. I have been to Riga\n",
            "3. I have been to Tartu\n",
            "4. I have been to Viru\n",
            "5. I have been to Aluksne\n",
            "6. I have been to ventspils\n"
          ]
        }
      ]
    },
    {
      "cell_type": "code",
      "source": [
        "# ADD PREVIOUS CITY IN THE FORLOOP\n",
        "cities_i_have_been_to = ['Tallinn', 'Riga', 'Tartu', 'Viru','Aluksne', 'ventspils']\n",
        "counter = 0 #INITIALIZE THE COUNER\n",
        "previous_city = None\n",
        "\n",
        "\n",
        "for city in cities_i_have_been_to:\n",
        "\n",
        "  counter = counter + 1\n",
        "  print(f'{counter}. I have been to {city}. The previous city I visited was {previous_city}.')\n",
        "  previous_city = city\n",
        "\n"
      ],
      "metadata": {
        "colab": {
          "base_uri": "https://localhost:8080/"
        },
        "id": "gcGbXTICblxJ",
        "outputId": "79fe6403-0a6e-4725-dff5-d7f253f56331"
      },
      "execution_count": 13,
      "outputs": [
        {
          "output_type": "stream",
          "name": "stdout",
          "text": [
            "1. I have been to Tallinn. The previous city I visited was None.\n",
            "2. I have been to Riga. The previous city I visited was Tallinn.\n",
            "3. I have been to Tartu. The previous city I visited was Riga.\n",
            "4. I have been to Viru. The previous city I visited was Tartu.\n",
            "5. I have been to Aluksne. The previous city I visited was Viru.\n",
            "6. I have been to ventspils. The previous city I visited was Aluksne.\n"
          ]
        }
      ]
    },
    {
      "cell_type": "code",
      "source": [
        "cities_i_have_been_to = ['Tallinn', 'Riga', 'Tartu', 'Viru','Aluksne', 'ventspils']\n",
        "\n",
        "counter = 0 #INITIALIZE THE COUNER\n",
        "previous_city = None\n",
        "\n",
        "\n",
        "for city in cities_i_have_been_to:\n",
        "\n",
        "  counter = counter + 1\n",
        "  if previous_city == None:\n",
        "   print(f'{counter}. I have been to {city}.')\n",
        "  else:\n",
        "    print(f'{counter}. I have been to {city}. The previous city I visited was {previous_city}.')\n",
        "  previous_city = city\n",
        ""
      ],
      "metadata": {
        "colab": {
          "base_uri": "https://localhost:8080/"
        },
        "id": "aIz1KQl1dTh8",
        "outputId": "c278a05b-5daa-42ea-dab7-81ea606df185"
      },
      "execution_count": 16,
      "outputs": [
        {
          "output_type": "stream",
          "name": "stdout",
          "text": [
            "1. I have been to Tallinn.\n",
            "2. I have been to Riga. The previous city I visited was Tallinn.\n",
            "3. I have been to Tartu. The previous city I visited was Riga.\n",
            "4. I have been to Viru. The previous city I visited was Tartu.\n",
            "5. I have been to Aluksne. The previous city I visited was Viru.\n",
            "6. I have been to ventspils. The previous city I visited was Aluksne.\n"
          ]
        }
      ]
    },
    {
      "cell_type": "markdown",
      "source": [
        "FOR LOOPS WITH INDEXES"
      ],
      "metadata": {
        "id": "Yu4c0774fywe"
      }
    },
    {
      "cell_type": "code",
      "source": [
        "cities_i_have_been_to = ['Tallin', 'Riga', 'Tartu', 'Aluksne', 'Viru', 'Ventspils']\n",
        "which_year_I_visited = [2020, 2024, 2020, 2021, 2024, 2022]"
      ],
      "metadata": {
        "id": "XMvBdV5Vfwh6"
      },
      "execution_count": 31,
      "outputs": []
    },
    {
      "cell_type": "code",
      "source": [
        "range (len (cities_i_have_been_to)) #elements\n",
        "list(range (len (cities_i_have_been_to))) #elements"
      ],
      "metadata": {
        "colab": {
          "base_uri": "https://localhost:8080/"
        },
        "id": "z5tO55rAf3PL",
        "outputId": "6817b9a3-9fef-4465-e5c7-82634d06210f"
      },
      "execution_count": 27,
      "outputs": [
        {
          "output_type": "execute_result",
          "data": {
            "text/plain": [
              "[0, 1, 2, 3, 4, 5]"
            ]
          },
          "metadata": {},
          "execution_count": 27
        }
      ]
    },
    {
      "cell_type": "code",
      "source": [
        "range(len(cities_i_have_been_to)) #elements  [0, 1, 2, 3, 4, 5]\n",
        "for i in range(len(cities_i_have_been_to)):\n",
        "  print(cities_i_have_been_to[i])\n",
        "  print(which_year_I_visited[i])\n",
        "  print(f'This is the index {i}')"
      ],
      "metadata": {
        "colab": {
          "base_uri": "https://localhost:8080/"
        },
        "id": "M6r9MhbqgPQ6",
        "outputId": "2e6d727d-4839-446e-bbf6-4c7eb4885e56"
      },
      "execution_count": 32,
      "outputs": [
        {
          "output_type": "stream",
          "name": "stdout",
          "text": [
            "Tallin\n",
            "2020\n",
            "This is the index 0\n",
            "Riga\n",
            "2024\n",
            "This is the index 1\n",
            "Tartu\n",
            "2020\n",
            "This is the index 2\n",
            "Aluksne\n",
            "2021\n",
            "This is the index 3\n",
            "Viru\n",
            "2024\n",
            "This is the index 4\n",
            "Ventspils\n",
            "2022\n",
            "This is the index 5\n"
          ]
        }
      ]
    },
    {
      "cell_type": "code",
      "source": [
        "range(len(cities_i_have_been_to)) #elements  [0, 1, 2, 3, 4, 5]\n",
        "for i in range(len(cities_i_have_been_to)):\n",
        "  print(f'I have been to {cities_i_have_been_to[i]}. I visited that city in {which_year_I_visited[i]}')"
      ],
      "metadata": {
        "colab": {
          "base_uri": "https://localhost:8080/"
        },
        "id": "jCGIhbXMi85s",
        "outputId": "6f022de1-c3db-4088-f6f4-869542c871ae"
      },
      "execution_count": 34,
      "outputs": [
        {
          "output_type": "stream",
          "name": "stdout",
          "text": [
            "I have been to Tallin. I visited that city in 2020\n",
            "I have been to Riga. I visited that city in 2024\n",
            "I have been to Tartu. I visited that city in 2020\n",
            "I have been to Aluksne. I visited that city in 2021\n",
            "I have been to Viru. I visited that city in 2024\n",
            "I have been to Ventspils. I visited that city in 2022\n"
          ]
        }
      ]
    },
    {
      "cell_type": "markdown",
      "source": [
        "NESTED LISTS"
      ],
      "metadata": {
        "id": "7fvnccYdoeyw"
      }
    },
    {
      "cell_type": "code",
      "source": [
        "matrix_2d = [\n",
        "    [1, 2, 3],\n",
        "    [4, 5, 6],\n",
        "    [7, 8, 9]]"
      ],
      "metadata": {
        "id": "RuU36wjFjFHt"
      },
      "execution_count": 36,
      "outputs": []
    },
    {
      "cell_type": "code",
      "source": [
        "for i in matrix_2d:\n",
        "  print(f' THIS IS THE SUB-LIST: {i}')\n",
        "  for j in i:\n",
        "     print(f' THESE ARE THE ELEMENTS OF THE SUB-LIST {j}')"
      ],
      "metadata": {
        "colab": {
          "base_uri": "https://localhost:8080/"
        },
        "id": "-llMGPD_oqzj",
        "outputId": "55280998-4e69-434e-aa4b-9419a6b78eaf"
      },
      "execution_count": 39,
      "outputs": [
        {
          "output_type": "stream",
          "name": "stdout",
          "text": [
            " THIS IS THE SUB-LIST: [1, 2, 3]\n",
            " THESE ARE THE ELEMENTS OF THE SUB-LIST 1\n",
            " THESE ARE THE ELEMENTS OF THE SUB-LIST 2\n",
            " THESE ARE THE ELEMENTS OF THE SUB-LIST 3\n",
            " THIS IS THE SUB-LIST: [4, 5, 6]\n",
            " THESE ARE THE ELEMENTS OF THE SUB-LIST 4\n",
            " THESE ARE THE ELEMENTS OF THE SUB-LIST 5\n",
            " THESE ARE THE ELEMENTS OF THE SUB-LIST 6\n",
            " THIS IS THE SUB-LIST: [7, 8, 9]\n",
            " THESE ARE THE ELEMENTS OF THE SUB-LIST 7\n",
            " THESE ARE THE ELEMENTS OF THE SUB-LIST 8\n",
            " THESE ARE THE ELEMENTS OF THE SUB-LIST 9\n"
          ]
        }
      ]
    },
    {
      "cell_type": "markdown",
      "source": [
        "GRADE MAPPING EXERCISE"
      ],
      "metadata": {
        "id": "BeXpGqE4qf83"
      }
    },
    {
      "cell_type": "code",
      "source": [
        "grade_mapping = [[90, 'A'], [80, 'B'], [70, 'C'], [60, 'D'], [0, 'F']] #NESTED LIST"
      ],
      "metadata": {
        "id": "R61x9nRgqedM"
      },
      "execution_count": 41,
      "outputs": []
    },
    {
      "cell_type": "code",
      "source": [
        "grade_mapping[0] #[90, 'A']\n",
        "grade_mapping [0][1] #A\n",
        "grade_mapping [3][1] #D\n"
      ],
      "metadata": {
        "id": "okSGGfJEqxbw"
      },
      "execution_count": null,
      "outputs": []
    },
    {
      "cell_type": "code",
      "source": [
        "for threshold, letter_grade in grade_mapping:\n",
        "  print(letter_grade)\n"
      ],
      "metadata": {
        "colab": {
          "base_uri": "https://localhost:8080/"
        },
        "id": "yAzZl9Awrprf",
        "outputId": "5487516e-4379-4647-c23b-26d3909ba2f3"
      },
      "execution_count": 42,
      "outputs": [
        {
          "output_type": "stream",
          "name": "stdout",
          "text": [
            "A\n",
            "B\n",
            "C\n",
            "D\n",
            "F\n"
          ]
        }
      ]
    },
    {
      "cell_type": "code",
      "source": [
        "student_names = [\"Alice\", \"Bob\", \"Charlie\", \"David\", \"Eva\"]\n",
        "student_scores = [85, 72, 93, 60, 77]\n",
        "grade_mapping = [[90, 'A'], [80, 'B'], [70, 'C'], [60, 'D'], [0, 'F']]"
      ],
      "metadata": {
        "id": "oRbyhgNvsEcC"
      },
      "execution_count": 45,
      "outputs": []
    },
    {
      "cell_type": "code",
      "source": [
        "for i in range (len (student_scores)):\n",
        "  print(student_scores [i])\n",
        "  print(student_names[i])\n",
        "  score = student_scores[i] # THIS IS THE SCORE OF EACH STUDENT SEPARATELY\n",
        "  for threshold, letter_grade in grade_mapping:\n",
        "    if score >= threshold:\n",
        "     print(f'Hi,{student_names[i]}, your letter grade is {letter_grade}')\n",
        "     break"
      ],
      "metadata": {
        "colab": {
          "base_uri": "https://localhost:8080/"
        },
        "id": "Io5E-xousUFl",
        "outputId": "72612464-e54b-4531-b3a9-e17514fc6cea"
      },
      "execution_count": 49,
      "outputs": [
        {
          "output_type": "stream",
          "name": "stdout",
          "text": [
            "85\n",
            "Alice\n",
            "Hi,Alice, your letter grade is B\n",
            "72\n",
            "Bob\n",
            "Hi,Bob, your letter grade is C\n",
            "93\n",
            "Charlie\n",
            "Hi,Charlie, your letter grade is A\n",
            "60\n",
            "David\n",
            "Hi,David, your letter grade is D\n",
            "77\n",
            "Eva\n",
            "Hi,Eva, your letter grade is C\n"
          ]
        }
      ]
    },
    {
      "cell_type": "code",
      "source": [
        "student_names = [\"Alice\", \"Bob\", \"Charlie\", \"David\", \"Eva\"] #CAN USE A COUNTER OR  FOR\n",
        "\n",
        "for index, student in enumerate(student_names, start=1):\n",
        "  print (f'Student{index}: {student}')\n",
        "\n"
      ],
      "metadata": {
        "colab": {
          "base_uri": "https://localhost:8080/"
        },
        "id": "WhLp_NjSwxjt",
        "outputId": "51178f49-47ab-4777-ab13-67782e307aa1"
      },
      "execution_count": 52,
      "outputs": [
        {
          "output_type": "stream",
          "name": "stdout",
          "text": [
            "Student1: Alice\n",
            "Student2: Bob\n",
            "Student3: Charlie\n",
            "Student4: David\n",
            "Student5: Eva\n"
          ]
        }
      ]
    },
    {
      "cell_type": "code",
      "source": [
        "student_names = [\"Alice\", \"Bob\", \"Charlie\", \"David\", \"Eva\"]\n",
        "\n",
        "#ENUMERATE\n",
        "for index, student in enumerate(student_names):\n",
        "  print(f'Student {index}: {student}')\n",
        "\n",
        "#COUNTER\n",
        "counter = 0 #INITIALIZE THE COUNTER\n",
        "for student in student_names:\n",
        "  print(f'Student {counter}: {student}')\n",
        "  counter = counter + 1\n",
        "\n",
        "#RANGE\n",
        "for i in range(len(student_names)):\n",
        "  print(f'Student {i}: {student_names[i]}')"
      ],
      "metadata": {
        "colab": {
          "base_uri": "https://localhost:8080/"
        },
        "id": "w1QFzc5hxy16",
        "outputId": "fc7dd185-1a9a-474d-db01-b5e0cc519267"
      },
      "execution_count": 53,
      "outputs": [
        {
          "output_type": "stream",
          "name": "stdout",
          "text": [
            "Student 0: Alice\n",
            "Student 1: Bob\n",
            "Student 2: Charlie\n",
            "Student 3: David\n",
            "Student 4: Eva\n",
            "Student 0: Alice\n",
            "Student 1: Bob\n",
            "Student 2: Charlie\n",
            "Student 3: David\n",
            "Student 4: Eva\n",
            "Student 0: Alice\n",
            "Student 1: Bob\n",
            "Student 2: Charlie\n",
            "Student 3: David\n",
            "Student 4: Eva\n"
          ]
        }
      ]
    }
  ]
}